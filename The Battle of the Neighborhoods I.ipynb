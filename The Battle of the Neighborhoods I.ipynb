{
    "cells": [
        {
            "metadata": {
                "collapsed": true
            },
            "cell_type": "markdown",
            "source": "# Capstone Project - The Battle of the Neighborhoods I \n### Applied Data Science Capstone by IBM/Coursera "
        },
        {
            "metadata": {},
            "cell_type": "markdown",
            "source": "## I. Introduction\n\nDespite the global economic impact of theCovid-19 Pandemic, Taiwan (Republic of China) has maintained robust economic growth. According to the Chung-Hua Institution for Economic Research (CIER), Taiwan's gross domestic product(GDP) has grown 2.38 percent in 2020 and will continue to grow by 3.73 percent in 2021.  Taiwan's economic freedom score is 77.1, making its economy the 11th freest in the 2020 Index of Economic freedom jointly issued by the Heritage Foundation and the Wall Street Journal . These aspects provide positive economic and market growth in 2021.  \n\nTaiwan has a geographical area of 36,193 square kilometers, with a population of about23,476,640. It leads to an average population density of 649 people per square kilometer. Making it the 17th most densely populated country in the world.   Its capital city, Taipei, and New Taipei City are the two the most densely populated areas in the territory. In Taipei, 10, 000 people live in every square meter. With such high density, and a culture of overworking; dining out, easting delicious food becomes the most preferred leisure activity of Taiwanese and resulting in the blossom of the restaurantion.  \n\n\nThis report will provide a glance for stakeholders who wish to open a new venue in northern Taiwan, where the most business opportunity gathered  "
        },
        {
            "metadata": {},
            "cell_type": "markdown",
            "source": "## I.I Problem and Discussion \n\nWhen it comes to open a new venue, different factors need to take into consideration. However, economic activities hugely rely on the population, human activity. Does the area have enough labor and demand for business? What about the economic activities in that area, the diversification? Diversity is the basis of economic stability and growth. A diverse economic environment will be more ideal for a restaurant business. This report attempts to provide some semblance to these questions based on the analytics of the data collected from public platforms. The questions have been narrowed to the follows:  \n\n1. Which districts have a greater population density?  \n3. Which districts have a better economic diversity? \n3. Which district has the most potential to open a venue? \n4. What business can be a good idea to open. "
        },
        {
            "metadata": {},
            "cell_type": "markdown",
            "source": "### II.I Data Collection \n\nTo understand better the business activity in Greater Taipei Area, we need to collect not only basic demography data, but also geographic data: \n\nTaipei and New Taipei geographic coordinate data can be found on [Taiwan opening government data platform](https://data.gov.tw/en) \n\n[New Taipei City Municipal administration data](https://en.wikipedia.org/wiki/New_Taipei_City)\n\n[Taipei City Municipal administration data](https://en.wikipedia.org/wiki/Taipei)\n\n[Taipei and New Taipei Geojson data](https://github.com/littlebtc/geodata4appy/tree/master/simplified)\n\nExploratory data for venues in Taipei and new Taipei City: This part of data will be acquired by using the Foursquare API.  \n\n\n### II.III Data Processing \n\nIn this report, the pandas.read_html() function has been used as a scrapper to obtain the municipal administration data of Taipei and New Taipei City from Wikipedia. After reading the files into their Dataframes and cleaning, the population density has been calculated. After the calculation, the two tables (Taipei and New Taipei) have been combined by using append() function. The geographic coordinate data then eventually joined with the Dataframe using the join() function.\n\n"
        },
        {
            "metadata": {},
            "cell_type": "code",
            "source": "",
            "execution_count": null,
            "outputs": []
        }
    ],
    "metadata": {
        "kernelspec": {
            "name": "python3",
            "display_name": "Python 3.7",
            "language": "python"
        },
        "language_info": {
            "name": "python",
            "version": "3.7.10",
            "mimetype": "text/x-python",
            "codemirror_mode": {
                "name": "ipython",
                "version": 3
            },
            "pygments_lexer": "ipython3",
            "nbconvert_exporter": "python",
            "file_extension": ".py"
        }
    },
    "nbformat": 4,
    "nbformat_minor": 1
}